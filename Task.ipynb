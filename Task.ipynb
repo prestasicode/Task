{
 "cells": [
  {
   "cell_type": "markdown",
   "metadata": {},
   "source": [
    "# 1. Buat program yang menampilkan output angka 1 s/d 100 di layar/console dengan pengecualian \n",
    "berikut :\n",
    "a) jika angka nya dapat dibagi 3, print \"fizz\"\n",
    "b) jika angka nya dapat dibagi 5, print \"buzz\"\n",
    "c) jika angka nya dapat dibagi 3 & 5, print \"fizzbuzz\"\n",
    "d) untuk angka lainnya, print angka tersebut"
   ]
  },
  {
   "cell_type": "code",
   "execution_count": 1,
   "metadata": {},
   "outputs": [
    {
     "name": "stdout",
     "output_type": "stream",
     "text": [
      "Masukkan angka: 3\n",
      "fizz\n"
     ]
    }
   ],
   "source": [
    "# meminta input dari user\n",
    "angka = int(input(\"Masukkan angka: \"))\n",
    "\n",
    "0 < angka < 100\n",
    "if angka % 3 == 0:\n",
    "    print(\"fizz\")\n",
    "elif angka % 5 == 0:\n",
    "    print(\"buzz\")\n",
    "else:\n",
    "    print(\"fizzbuzz\")"
   ]
  },
  {
   "cell_type": "code",
   "execution_count": 2,
   "metadata": {},
   "outputs": [
    {
     "name": "stdout",
     "output_type": "stream",
     "text": [
      "Masukkan angka: 5\n",
      "buzz\n"
     ]
    }
   ],
   "source": [
    "# meminta input dari user\n",
    "angka = int(input(\"Masukkan angka: \"))\n",
    "\n",
    "0 < angka < 100\n",
    "if angka % 3 == 0:\n",
    "    print(\"fizz\")\n",
    "elif angka % 5 == 0:\n",
    "    print(\"buzz\")\n",
    "else:\n",
    "    print(\"fizzbuzz\")"
   ]
  },
  {
   "cell_type": "code",
   "execution_count": 3,
   "metadata": {},
   "outputs": [
    {
     "name": "stdout",
     "output_type": "stream",
     "text": [
      "Masukkan angka: 4\n",
      "fizzbuzz\n"
     ]
    }
   ],
   "source": [
    "# meminta input dari user\n",
    "angka = int(input(\"Masukkan angka: \"))\n",
    "\n",
    "0 < angka < 100\n",
    "if angka % 3 == 0:\n",
    "    print(\"fizz\")\n",
    "elif angka % 5 == 0:\n",
    "    print(\"buzz\")\n",
    "else:\n",
    "    print(\"fizzbuzz\")"
   ]
  },
  {
   "cell_type": "markdown",
   "metadata": {},
   "source": [
    "# 2. Buat program yang menampilkan pola papan catur (space dan hash) 8 x 8 di layar/console sebagai \n",
    "berikut:\n",
    "# # # # # # \n",
    "# # # # # # \n",
    "# # # # # # \n",
    "# # # # # # \n",
    "# # # # # # \n",
    "# # # # # # \n",
    "# # # # # # \n",
    "# # # # # # \n",
    "\n",
    "Modifikasi program untuk dapat menuliskan pola n x n, dimana n adalah sembarang angka yang \n",
    "diinput oleh user."
   ]
  },
  {
   "cell_type": "code",
   "execution_count": null,
   "metadata": {},
   "outputs": [],
   "source": [
    "import pygame\n",
    "pygame.init()\n",
    "\n",
    "white,black,red = (255,255,255),(0,0,0),(255,0,0)\n",
    "gameDisplay = pygame.display.set_mode((800,600))\n",
    "pygame.display.set_caption(\"Papan Catur\")\n",
    "\n",
    "gameExit = False\n",
    "\n",
    "lead_x = 20\n",
    "lead_y = 20\n",
    "\n",
    "while not gameExit:\n",
    "    for event in pygame.event.get():\n",
    "        if event.type == pygame.QUIT:\n",
    "            gameExit = True\n",
    "\n",
    "gameDisplay.fill(white)\n",
    "pygame.draw.rect(gameDisplay, black, [lead_x,lead_y,20,20])\n",
    "pygame.display.update()\n",
    "\n",
    "pygame.quit()\n",
    "quit()"
   ]
  },
  {
   "cell_type": "markdown",
   "metadata": {},
   "source": [
    "# 3. Buat program yang meminta inputan dari user berupa bilangan numerik (informasikan kepada \n",
    "user untuk menginput karakter tertentu sebagai penanda akhir inputan, misal <Enter> atau \n",
    "<titik>). Simpan inputan user sebagai variabel array. Output dari program adalah hasil perkalian \n",
    "dari semua bilangan yang diinput kecuali bilangan pada index tertentu.\n",
    "Misal: user menginput bilangan sebagai berikut [1, 7, 3, 4] dan output dari program adalah [84, \n",
    "12, 28, 21] yang merupakan hasil perkalian dari [7 * 3 * 4, 1 * 3 * 4, 1 * 7 * 4, 1 * 7 * 3].\n"
   ]
  },
  {
   "cell_type": "code",
   "execution_count": 45,
   "metadata": {},
   "outputs": [
    {
     "name": "stdout",
     "output_type": "stream",
     "text": [
      "input = [1 7 3 4]\n",
      "output = [ 21 147  63  84]\n"
     ]
    }
   ],
   "source": [
    "import numpy as np\n",
    "from numpy import random\n",
    "\n",
    "x = random.choice([1, 7])\n",
    "y = random.choice([3, 4])\n",
    "input = np.array([1,7,3,4])\n",
    "print(\"input =\", input)\n",
    "output = x*input*y\n",
    "print(\"output =\", output)"
   ]
  },
  {
   "cell_type": "code",
   "execution_count": 46,
   "metadata": {},
   "outputs": [
    {
     "name": "stdout",
     "output_type": "stream",
     "text": [
      "input = [1 7 3 4]\n",
      "output = [ 4 28 12 16]\n"
     ]
    }
   ],
   "source": [
    "import numpy as np\n",
    "from numpy import random\n",
    "\n",
    "x = random.choice([1, 7])\n",
    "y = random.choice([3, 4])\n",
    "input = np.array([1,7,3,4])\n",
    "print(\"input =\", input)\n",
    "output = x*input*y\n",
    "print(\"output =\", output) "
   ]
  },
  {
   "cell_type": "markdown",
   "metadata": {},
   "source": [
    "# 4. Buat pseudo code atau program untuk membalikan(reverse) isi sebuah array tanpa menggunakan \n",
    "kontrol perulangan atau menggunakan fungsi built-in. Misal: input [1, 2, 3, 4, 5] output nya [5, 4, \n",
    "3, 2, 1]\n"
   ]
  },
  {
   "cell_type": "code",
   "execution_count": 4,
   "metadata": {},
   "outputs": [
    {
     "data": {
      "text/plain": [
       "[5, 4, 3, 2, 1]"
      ]
     },
     "execution_count": 4,
     "metadata": {},
     "output_type": "execute_result"
    }
   ],
   "source": [
    "a = [1,2,3,4,5]\n",
    "a = a[::-1]\n",
    "a"
   ]
  },
  {
   "cell_type": "markdown",
   "metadata": {},
   "source": [
    "# 5. Ada sebuah angka: 1.225.441\n",
    "Buatlah sebuah program agar menghasilkan output berupa:\n",
    "1000000\n",
    "200000\n",
    "20000\n",
    "5000\n",
    "400\n",
    "40\n",
    "1\n"
   ]
  },
  {
   "cell_type": "code",
   "execution_count": 48,
   "metadata": {},
   "outputs": [],
   "source": [
    "init__main_args\n",
    "    int output,jutaan,ratusan_ribu,puluhan_ribu, ribuan, ratusan, puluhan,satuan,a,b,c,d,e;\n",
    "    print(\"Masukan angka kurang dari 1000 = \",angka)\n",
    "    jutaan=angka/1000000;\n",
    "    a=angka%100;\n",
    "    ratusan_ribu=a/100000;\n",
    "    b=a%100000;\n",
    "    puluhan_ribu=b/10000;\n",
    "    c=b%10000;\n",
    "    ribuan=c/1000;\n",
    "    d=c%1000;\n",
    "    ratusan=d/100;\n",
    "    e=d%100;\n",
    "    puluhan=e/10;\n",
    "    f=e%10;\n",
    "    satuan=f/1;\n",
    "    count.init_\n",
    "    print()\" Hasilnya = \")"
   ]
  }
 ],
 "metadata": {
  "kernelspec": {
   "display_name": "Python 3",
   "language": "python",
   "name": "python3"
  },
  "language_info": {
   "codemirror_mode": {
    "name": "ipython",
    "version": 3
   },
   "file_extension": ".py",
   "mimetype": "text/x-python",
   "name": "python",
   "nbconvert_exporter": "python",
   "pygments_lexer": "ipython3",
   "version": "3.7.4"
  }
 },
 "nbformat": 4,
 "nbformat_minor": 2
}
